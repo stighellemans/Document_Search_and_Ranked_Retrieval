{
 "cells": [
  {
   "cell_type": "code",
   "execution_count": 1,
   "metadata": {},
   "outputs": [],
   "source": [
    "from pathlib import Path\n",
    "import pandas as pd\n",
    "import re\n",
    "import numpy as np\n",
    "from functools import partial\n",
    "import pickle\n",
    "\n",
    "from src.preprocessing import read, tokenize, preprocess\n",
    "from src.helpers import process_query_results\n",
    "from src.database import Database, PositionalDatabase\n",
    "from src.query import query_database, pos_query_database\n",
    "from src.evaluation import map_at_k, mar_at_k"
   ]
  },
  {
   "cell_type": "code",
   "execution_count": 2,
   "metadata": {},
   "outputs": [],
   "source": [
    "base_path = Path(\"/Users/stighellemans/Desktop/Information_Retrieval/assignments/assignment 1\")\n",
    "base_doc_path = base_path / \"full_docs_small\"\n",
    "\n",
    "\n",
    "docs = {int(re.search(r'\\d+', doc_path.name).group()): read(doc_path) for doc_path in base_doc_path.glob(\"*.txt\")}\n",
    "\n",
    "small_queries = pd.read_csv(base_path / \"dev_small_queries - dev_small_queries.csv\", index_col=\"Query number\").to_dict()[\"Query\"]\n",
    "small_query_results = pd.read_csv(base_path / \"dev_query_results_small.csv\", index_col=\"Query_number\")\n",
    "small_query_results = process_query_results(small_queries, small_query_results)\n",
    "\n",
    "large_queries = pd.read_csv(base_path / \"dev_queries.tsv\", delimiter=\"\\t\", index_col=\"Query number\").to_dict()[\"Query\"]\n",
    "large_query_results = pd.read_csv(base_path / \"dev_query_results.csv\", index_col=\"Query_number\")\n",
    "large_query_results = process_query_results(large_queries, large_query_results)\n",
    "\n",
    "test_queries = pd.read_csv(base_path / \"queries.csv\", delimiter=\"\\t\", index_col=\"Query number\").to_dict()[\"Query\"]\n",
    "\n",
    "\n"
   ]
  },
  {
   "cell_type": "code",
   "execution_count": null,
   "metadata": {},
   "outputs": [],
   "source": [
    "import random\n",
    "\n",
    "n_subset = 10\n",
    "subset = {i: docs[random.choice(list(docs.keys()))] for i in range(n_subset)}"
   ]
  },
  {
   "cell_type": "code",
   "execution_count": null,
   "metadata": {},
   "outputs": [],
   "source": [
    "db = Database(tokenize_fn=preprocess, docs=docs)"
   ]
  },
  {
   "cell_type": "code",
   "execution_count": 3,
   "metadata": {},
   "outputs": [],
   "source": [
    "with open(\"./results/preprocessing_database.pkl\", \"rb\") as file:\n",
    "    db = pickle.load(file)"
   ]
  },
  {
   "cell_type": "code",
   "execution_count": null,
   "metadata": {},
   "outputs": [],
   "source": [
    "with open(\"./results/preprocessing_database.pkl\", \"rb\") as file:\n",
    "    db = pickle.load(file)"
   ]
  },
  {
   "cell_type": "code",
   "execution_count": null,
   "metadata": {},
   "outputs": [],
   "source": [
    "# Example usage for k = 3 and k = 10\n",
    "k_values = [3, 10]\n",
    "\n",
    "for k in k_values:\n",
    "    map_k = map_at_k(large_queries, large_query_results,db, query_database, k)\n",
    "    mar_k = mar_at_k(large_queries, large_query_results, db, query_database, k)\n",
    "    print(f\"MAP@{k}: {map_k}\")\n",
    "    print(f\"MAR@{k}: {mar_k}\")"
   ]
  },
  {
   "cell_type": "code",
   "execution_count": null,
   "metadata": {},
   "outputs": [],
   "source": [
    "pos_db = PositionalDatabase(tokenize_fn=preprocess, docs=docs)"
   ]
  },
  {
   "cell_type": "code",
   "execution_count": null,
   "metadata": {},
   "outputs": [],
   "source": [
    "with open(\"./results/preprocessing_pos_database.pkl\", \"wb\") as file:\n",
    "    pickle.dump(pos_db, file)"
   ]
  },
  {
   "cell_type": "code",
   "execution_count": null,
   "metadata": {},
   "outputs": [],
   "source": [
    "with open(\"./results/preprocessing_pos_database.pkl\", \"rb\") as file:\n",
    "    pos_db = pickle.load(file)"
   ]
  },
  {
   "cell_type": "code",
   "execution_count": null,
   "metadata": {},
   "outputs": [],
   "source": [
    "# Example usage for k = 3 and k = 10\n",
    "k_values = [3, 10]\n",
    "\n",
    "query_function = partial(pos_query_database, q_fraction=1, boost_factor=1)\n",
    "\n",
    "for k in k_values:\n",
    "    map_k = map_at_k(large_queries, large_query_results, pos_db, query_function, k)\n",
    "    mar_k = mar_at_k(large_queries, large_query_results, pos_db, query_function, k)\n",
    "    print(f\"MAP@{k}: {map_k}\")\n",
    "    print(f\"MAR@{k}: {mar_k}\")"
   ]
  }
 ],
 "metadata": {
  "kernelspec": {
   "display_name": "base",
   "language": "python",
   "name": "python3"
  },
  "language_info": {
   "codemirror_mode": {
    "name": "ipython",
    "version": 3
   },
   "file_extension": ".py",
   "mimetype": "text/x-python",
   "name": "python",
   "nbconvert_exporter": "python",
   "pygments_lexer": "ipython3",
   "version": "3.10.12"
  }
 },
 "nbformat": 4,
 "nbformat_minor": 2
}
