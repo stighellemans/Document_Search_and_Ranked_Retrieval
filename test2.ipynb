{
 "cells": [
  {
   "cell_type": "code",
   "execution_count": 3,
   "metadata": {},
   "outputs": [],
   "source": [
    "from pathlib import Path\n",
    "import pandas as pd\n",
    "import re\n",
    "import numpy as np\n",
    "from functools import partial\n",
    "import pickle\n",
    "\n",
    "from src.preprocessing import read, tokenize, preprocess\n",
    "from src.helpers import process_query_results\n",
    "from src.database import Database, PositionalDatabase\n",
    "from src.query import query_database, pos_query_database\n",
    "from src.evaluation import map_at_k, mar_at_k"
   ]
  },
  {
   "cell_type": "code",
   "execution_count": 4,
   "metadata": {},
   "outputs": [],
   "source": [
    "base_path = Path(\"/Users/stighellemans/Desktop/Information_Retrieval/assignments/assignment 1\")\n",
    "base_small_doc_path = base_path / \"full_docs_small\"\n",
    "base_large_doc_path = base_path / \"full_docs\"\n",
    "\n",
    "small_docs = {int(re.search(r'\\d+', doc_path.name).group()): doc_path for doc_path in base_small_doc_path.glob(\"*.txt\")}\n",
    "large_docs = {int(re.search(r'\\d+', doc_path.name).group()): doc_path for doc_path in base_large_doc_path.glob(\"*.txt\")}\n",
    "\n",
    "small_queries = pd.read_csv(base_path / \"dev_small_queries - dev_small_queries.csv\", index_col=\"Query number\").to_dict()[\"Query\"]\n",
    "small_query_results = pd.read_csv(base_path / \"dev_query_results_small.csv\", index_col=\"Query_number\")\n",
    "small_query_results = process_query_results(small_queries, small_query_results)\n",
    "\n",
    "large_queries = pd.read_csv(base_path / \"dev_queries.tsv\", delimiter=\"\\t\", index_col=\"Query number\").to_dict()[\"Query\"]\n",
    "large_query_results = pd.read_csv(base_path / \"dev_query_results.csv\", index_col=\"Query_number\")\n",
    "large_query_results = process_query_results(large_queries, large_query_results)\n",
    "\n",
    "test_queries = pd.read_csv(base_path / \"queries.csv\", delimiter=\"\\t\", index_col=\"Query number\").to_dict()[\"Query\"]\n",
    "\n",
    "\n"
   ]
  },
  {
   "cell_type": "code",
   "execution_count": 1,
   "metadata": {},
   "outputs": [
    {
     "ename": "KeyboardInterrupt",
     "evalue": "",
     "output_type": "error",
     "traceback": [
      "\u001b[0;31m---------------------------------------------------------------------------\u001b[0m",
      "\u001b[0;31mKeyboardInterrupt\u001b[0m                         Traceback (most recent call last)",
      "Cell \u001b[0;32mIn[5], line 5\u001b[0m\n\u001b[1;32m      3\u001b[0m n_subset \u001b[38;5;241m=\u001b[39m \u001b[38;5;241m80000\u001b[39m\n\u001b[1;32m      4\u001b[0m \u001b[38;5;66;03m# subset = {i: small_docs[random.choice(list(small_docs.keys()))] for i in range(n_subset)}\u001b[39;00m\n\u001b[0;32m----> 5\u001b[0m large_subset \u001b[38;5;241m=\u001b[39m {i: large_docs[random\u001b[38;5;241m.\u001b[39mchoice(\u001b[38;5;28mlist\u001b[39m(large_docs\u001b[38;5;241m.\u001b[39mkeys()))] \u001b[38;5;28;01mfor\u001b[39;00m i \u001b[38;5;129;01min\u001b[39;00m \u001b[38;5;28mrange\u001b[39m(n_subset)}\n",
      "Cell \u001b[0;32mIn[5], line 5\u001b[0m, in \u001b[0;36m<dictcomp>\u001b[0;34m(.0)\u001b[0m\n\u001b[1;32m      3\u001b[0m n_subset \u001b[38;5;241m=\u001b[39m \u001b[38;5;241m80000\u001b[39m\n\u001b[1;32m      4\u001b[0m \u001b[38;5;66;03m# subset = {i: small_docs[random.choice(list(small_docs.keys()))] for i in range(n_subset)}\u001b[39;00m\n\u001b[0;32m----> 5\u001b[0m large_subset \u001b[38;5;241m=\u001b[39m {i: large_docs[random\u001b[38;5;241m.\u001b[39mchoice(\u001b[38;5;28;43mlist\u001b[39;49m\u001b[43m(\u001b[49m\u001b[43mlarge_docs\u001b[49m\u001b[38;5;241;43m.\u001b[39;49m\u001b[43mkeys\u001b[49m\u001b[43m(\u001b[49m\u001b[43m)\u001b[49m\u001b[43m)\u001b[49m)] \u001b[38;5;28;01mfor\u001b[39;00m i \u001b[38;5;129;01min\u001b[39;00m \u001b[38;5;28mrange\u001b[39m(n_subset)}\n",
      "\u001b[0;31mKeyboardInterrupt\u001b[0m: "
     ]
    }
   ],
   "source": [
    "import random\n",
    "\n",
    "n_subset = 10\n",
    "subset = {i: small_docs[random.choice(list(small_docs.keys()))] for i in range(n_subset)}"
   ]
  },
  {
   "cell_type": "code",
   "execution_count": 14,
   "metadata": {},
   "outputs": [],
   "source": [
    "large_subset = {ID: large_docs[ID] for ID in list(large_docs.keys())[:10000]}"
   ]
  },
  {
   "cell_type": "code",
   "execution_count": null,
   "metadata": {},
   "outputs": [
    {
     "name": "stderr",
     "output_type": "stream",
     "text": [
      "Processing Documents:   5%|▌         | 541/10000 [00:14<04:01, 39.12it/s] "
     ]
    }
   ],
   "source": [
    "\n",
    "\n",
    "db = Database(tokenize_fn=preprocess, docs=large_subset, n_processes=8)"
   ]
  },
  {
   "cell_type": "code",
   "execution_count": 16,
   "metadata": {},
   "outputs": [
    {
     "data": {
      "text/plain": [
       "442565"
      ]
     },
     "execution_count": 16,
     "metadata": {},
     "output_type": "execute_result"
    }
   ],
   "source": []
  },
  {
   "cell_type": "code",
   "execution_count": 10,
   "metadata": {},
   "outputs": [
    {
     "name": "stderr",
     "output_type": "stream",
     "text": [
      "100%|██████████| 1557/1557 [01:46<00:00, 14.64it/s]\n"
     ]
    }
   ],
   "source": [
    "from tqdm import tqdm\n",
    "for doc_id in tqdm(small_docs.keys()):\n",
    "    Database.process_single_document(db, (doc_id, small_docs[doc_id]))"
   ]
  },
  {
   "cell_type": "code",
   "execution_count": 12,
   "metadata": {},
   "outputs": [],
   "source": [
    "with open(\"./results/preprocessing_database.pkl\", \"rb\") as file:\n",
    "    db = pickle.load(file)"
   ]
  },
  {
   "cell_type": "code",
   "execution_count": 3,
   "metadata": {},
   "outputs": [],
   "source": [
    "with open(\"./results/preprocessing_database.pkl\", \"rb\") as file:\n",
    "    db = pickle.load(file)"
   ]
  },
  {
   "cell_type": "code",
   "execution_count": null,
   "metadata": {},
   "outputs": [],
   "source": [
    "query_database(db, \"hello how are you my friend\")"
   ]
  },
  {
   "cell_type": "code",
   "execution_count": 4,
   "metadata": {},
   "outputs": [
    {
     "name": "stderr",
     "output_type": "stream",
     "text": [
      "Processing queries for MAP@K=3: 100%|██████████| 248/248 [00:05<00:00, 42.76it/s]\n",
      "Processing queries for MAP@K=3: 100%|██████████| 248/248 [00:00<00:00, 627.75it/s]\n"
     ]
    },
    {
     "name": "stdout",
     "output_type": "stream",
     "text": [
      "MAP@3: 0.27284946236559143\n",
      "MAR@3: 0.8064516129032258\n"
     ]
    },
    {
     "name": "stderr",
     "output_type": "stream",
     "text": [
      "Processing queries for MAP@K=10: 100%|██████████| 248/248 [00:04<00:00, 58.68it/s] \n",
      "Processing queries for MAP@K=10: 100%|██████████| 248/248 [00:00<00:00, 740.48it/s]"
     ]
    },
    {
     "name": "stdout",
     "output_type": "stream",
     "text": [
      "MAP@10: 0.0907258064516129\n",
      "MAR@10: 0.8891129032258065\n"
     ]
    },
    {
     "name": "stderr",
     "output_type": "stream",
     "text": [
      "\n"
     ]
    }
   ],
   "source": [
    "# Example usage for k = 3 and k = 10\n",
    "k_values = [3, 10]\n",
    "\n",
    "for k in k_values:\n",
    "    map_k = map_at_k(small_queries, small_query_results,db, query_database, k)\n",
    "    mar_k = mar_at_k(small_queries, small_query_results, db, query_database, k)\n",
    "    print(f\"MAP@{k}: {map_k}\")\n",
    "    print(f\"MAR@{k}: {mar_k}\")"
   ]
  },
  {
   "cell_type": "code",
   "execution_count": null,
   "metadata": {},
   "outputs": [
    {
     "name": "stderr",
     "output_type": "stream",
     "text": [
      "Processing Documents:  16%|█▌        | 78431/501676 [10:17<04:15, 1658.16it/s] "
     ]
    }
   ],
   "source": [
    "pos_db = PositionalDatabase(tokenize_fn=tokenize, docs=large_docs)"
   ]
  },
  {
   "cell_type": "code",
   "execution_count": null,
   "metadata": {},
   "outputs": [],
   "source": [
    "with open(\"./results/preprocessing_pos_database.pkl\", \"wb\") as file:\n",
    "    pickle.dump(pos_db, file)"
   ]
  },
  {
   "cell_type": "code",
   "execution_count": null,
   "metadata": {},
   "outputs": [],
   "source": [
    "with open(\"./results/preprocessing_pos_database.pkl\", \"rb\") as file:\n",
    "    pos_db = pickle.load(file)"
   ]
  },
  {
   "cell_type": "code",
   "execution_count": null,
   "metadata": {},
   "outputs": [],
   "source": [
    "# Example usage for k = 3 and k = 10\n",
    "k_values = [3, 10]\n",
    "\n",
    "query_function = partial(pos_query_database, q_fraction=1, boost_factor=1)\n",
    "\n",
    "for k in k_values:\n",
    "    map_k = map_at_k(large_queries, large_query_results, pos_db, query_function, k)\n",
    "    mar_k = mar_at_k(large_queries, large_query_results, pos_db, query_function, k)\n",
    "    print(f\"MAP@{k}: {map_k}\")\n",
    "    print(f\"MAR@{k}: {mar_k}\")"
   ]
  }
 ],
 "metadata": {
  "kernelspec": {
   "display_name": "base",
   "language": "python",
   "name": "python3"
  },
  "language_info": {
   "codemirror_mode": {
    "name": "ipython",
    "version": 3
   },
   "file_extension": ".py",
   "mimetype": "text/x-python",
   "name": "python",
   "nbconvert_exporter": "python",
   "pygments_lexer": "ipython3",
   "version": "3.10.12"
  }
 },
 "nbformat": 4,
 "nbformat_minor": 2
}
